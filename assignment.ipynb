{
 "cells": [
  {
   "cell_type": "markdown",
   "id": "a6cd5c60",
   "metadata": {},
   "source": [
    "Implementing a Given intensity transform on a image\n"
   ]
  }
 ],
 "metadata": {
  "language_info": {
   "name": "python"
  }
 },
 "nbformat": 4,
 "nbformat_minor": 5
}
